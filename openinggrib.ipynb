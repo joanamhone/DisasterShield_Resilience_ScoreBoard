{
 "cells": [
  {
   "cell_type": "code",
   "execution_count": 2,
   "id": "c72f6606",
   "metadata": {},
   "outputs": [
    {
     "name": "stdout",
     "output_type": "stream",
     "text": [
      "Collecting xarray\n",
      "  Using cached xarray-2025.7.1-py3-none-any.whl.metadata (12 kB)\n",
      "Collecting cfgrib\n",
      "  Using cached cfgrib-0.9.15.0-py3-none-any.whl.metadata (55 kB)\n",
      "Requirement already satisfied: numpy>=1.26 in c:\\users\\user\\documents\\ubuntu net hackathon ml\\venv\\lib\\site-packages (from xarray) (2.3.0)\n",
      "Requirement already satisfied: packaging>=24.1 in c:\\users\\user\\documents\\ubuntu net hackathon ml\\venv\\lib\\site-packages (from xarray) (25.0)\n",
      "Requirement already satisfied: pandas>=2.2 in c:\\users\\user\\documents\\ubuntu net hackathon ml\\venv\\lib\\site-packages (from xarray) (2.3.0)\n",
      "Requirement already satisfied: attrs>=19.2 in c:\\users\\user\\documents\\ubuntu net hackathon ml\\venv\\lib\\site-packages (from cfgrib) (25.3.0)\n",
      "Collecting click (from cfgrib)\n",
      "  Using cached click-8.2.1-py3-none-any.whl.metadata (2.5 kB)\n",
      "Collecting eccodes>=0.9.8 (from cfgrib)\n",
      "  Using cached eccodes-2.42.0-cp313-cp313-win_amd64.whl.metadata (14 kB)\n",
      "Requirement already satisfied: cffi in c:\\users\\user\\documents\\ubuntu net hackathon ml\\venv\\lib\\site-packages (from eccodes>=0.9.8->cfgrib) (1.17.1)\n",
      "Collecting findlibs (from eccodes>=0.9.8->cfgrib)\n",
      "  Using cached findlibs-0.1.1-py3-none-any.whl.metadata (3.6 kB)\n",
      "Requirement already satisfied: python-dateutil>=2.8.2 in c:\\users\\user\\documents\\ubuntu net hackathon ml\\venv\\lib\\site-packages (from pandas>=2.2->xarray) (2.9.0.post0)\n",
      "Requirement already satisfied: pytz>=2020.1 in c:\\users\\user\\documents\\ubuntu net hackathon ml\\venv\\lib\\site-packages (from pandas>=2.2->xarray) (2025.2)\n",
      "Requirement already satisfied: tzdata>=2022.7 in c:\\users\\user\\documents\\ubuntu net hackathon ml\\venv\\lib\\site-packages (from pandas>=2.2->xarray) (2025.2)\n",
      "Requirement already satisfied: six>=1.5 in c:\\users\\user\\documents\\ubuntu net hackathon ml\\venv\\lib\\site-packages (from python-dateutil>=2.8.2->pandas>=2.2->xarray) (1.17.0)\n",
      "Requirement already satisfied: pycparser in c:\\users\\user\\documents\\ubuntu net hackathon ml\\venv\\lib\\site-packages (from cffi->eccodes>=0.9.8->cfgrib) (2.22)\n",
      "Requirement already satisfied: colorama in c:\\users\\user\\documents\\ubuntu net hackathon ml\\venv\\lib\\site-packages (from click->cfgrib) (0.4.6)\n",
      "Using cached xarray-2025.7.1-py3-none-any.whl (1.3 MB)\n",
      "Using cached cfgrib-0.9.15.0-py3-none-any.whl (48 kB)\n",
      "Using cached eccodes-2.42.0-cp313-cp313-win_amd64.whl (7.0 MB)\n",
      "Using cached click-8.2.1-py3-none-any.whl (102 kB)\n",
      "Using cached findlibs-0.1.1-py3-none-any.whl (10 kB)\n",
      "Installing collected packages: findlibs, click, eccodes, xarray, cfgrib\n",
      "\n",
      "   -------- ------------------------------- 1/5 [click]\n",
      "   -------- ------------------------------- 1/5 [click]\n",
      "   ---------------- ----------------------- 2/5 [eccodes]\n",
      "   ---------------- ----------------------- 2/5 [eccodes]\n",
      "   ------------------------ --------------- 3/5 [xarray]\n",
      "   ------------------------ --------------- 3/5 [xarray]\n",
      "   ------------------------ --------------- 3/5 [xarray]\n",
      "   ------------------------ --------------- 3/5 [xarray]\n",
      "   ------------------------ --------------- 3/5 [xarray]\n",
      "   ------------------------ --------------- 3/5 [xarray]\n",
      "   ------------------------ --------------- 3/5 [xarray]\n",
      "   ------------------------ --------------- 3/5 [xarray]\n",
      "   ------------------------ --------------- 3/5 [xarray]\n",
      "   ------------------------ --------------- 3/5 [xarray]\n",
      "   ------------------------ --------------- 3/5 [xarray]\n",
      "   ------------------------ --------------- 3/5 [xarray]\n",
      "   ------------------------ --------------- 3/5 [xarray]\n",
      "   ------------------------ --------------- 3/5 [xarray]\n",
      "   ------------------------ --------------- 3/5 [xarray]\n",
      "   ------------------------ --------------- 3/5 [xarray]\n",
      "   ------------------------ --------------- 3/5 [xarray]\n",
      "   ------------------------ --------------- 3/5 [xarray]\n",
      "   ------------------------ --------------- 3/5 [xarray]\n",
      "   ------------------------ --------------- 3/5 [xarray]\n",
      "   ------------------------ --------------- 3/5 [xarray]\n",
      "   ------------------------ --------------- 3/5 [xarray]\n",
      "   ------------------------ --------------- 3/5 [xarray]\n",
      "   ------------------------ --------------- 3/5 [xarray]\n",
      "   ------------------------ --------------- 3/5 [xarray]\n",
      "   ------------------------ --------------- 3/5 [xarray]\n",
      "   ------------------------ --------------- 3/5 [xarray]\n",
      "   ------------------------ --------------- 3/5 [xarray]\n",
      "   -------------------------------- ------- 4/5 [cfgrib]\n",
      "   -------------------------------- ------- 4/5 [cfgrib]\n",
      "   ---------------------------------------- 5/5 [cfgrib]\n",
      "\n",
      "Successfully installed cfgrib-0.9.15.0 click-8.2.1 eccodes-2.42.0 findlibs-0.1.1 xarray-2025.7.1\n"
     ]
    }
   ],
   "source": [
    "!pip install xarray cfgrib\n"
   ]
  },
  {
   "cell_type": "code",
   "execution_count": 5,
   "id": "5c973696",
   "metadata": {},
   "outputs": [
    {
     "name": "stdout",
     "output_type": "stream",
     "text": [
      "<xarray.Dataset> Size: 6GB\n",
      "Dimensions:     (time: 744, latitude: 721, longitude: 1440)\n",
      "Coordinates:\n",
      "    number      int64 8B ...\n",
      "  * time        (time) datetime64[ns] 6kB 2014-12-01 ... 2014-12-31T23:00:00\n",
      "    step        timedelta64[ns] 8B ...\n",
      "    surface     float64 8B ...\n",
      "  * latitude    (latitude) float64 6kB 90.0 89.75 89.5 ... -89.5 -89.75 -90.0\n",
      "  * longitude   (longitude) float64 12kB 0.0 0.25 0.5 0.75 ... 359.2 359.5 359.8\n",
      "    valid_time  (time) datetime64[ns] 6kB ...\n",
      "Data variables:\n",
      "    msl         (time, latitude, longitude) float32 3GB ...\n",
      "    tcc         (time, latitude, longitude) float32 3GB ...\n",
      "Attributes:\n",
      "    GRIB_edition:            1\n",
      "    GRIB_centre:             ecmf\n",
      "    GRIB_centreDescription:  European Centre for Medium-Range Weather Forecasts\n",
      "    GRIB_subCentre:          0\n",
      "    Conventions:             CF-1.7\n",
      "    institution:             European Centre for Medium-Range Weather Forecasts\n",
      "    history:                 2025-07-20T16:38 GRIB to CDM+CF via cfgrib-0.9.1...\n"
     ]
    },
    {
     "name": "stderr",
     "output_type": "stream",
     "text": [
      "c:\\Users\\user\\Documents\\Ubuntu Net Hackathon ML\\venv\\Lib\\site-packages\\cfgrib\\xarray_plugin.py:131: FutureWarning: In a future version, xarray will not decode timedelta values based on the presence of a timedelta-like units attribute by default. Instead it will rely on the presence of a timedelta64 dtype attribute, which is now xarray's default way of encoding timedelta64 values. To continue decoding timedeltas based on the presence of a timedelta-like units attribute, users will need to explicitly opt-in by passing True or CFTimedeltaCoder(decode_via_units=True) to decode_timedelta. To silence this warning, set decode_timedelta to True, False, or a 'CFTimedeltaCoder' instance.\n",
      "  vars, attrs, coord_names = xr.conventions.decode_cf_variables(\n"
     ]
    }
   ],
   "source": [
    "import xarray as xr\n",
    "\n",
    "# Replace with your actual file path\n",
    "file_path = \"era5_sample_2014_12.grib\"\n",
    "\n",
    "# Define the variables you want to load\n",
    "# These are the ones that worked in your original output\n",
    "desired_variables = ['t2m', 'u10', 'v10', 'msl', 'tcc']\n",
    "\n",
    "# Use 'backend_kwargs' to pass filtering options to cfgrib\n",
    "ds = xr.open_dataset(\n",
    "    file_path,\n",
    "    engine=\"cfgrib\",\n",
    "    backend_kwargs={'filter_by_keys': {'shortName': desired_variables}}\n",
    ")\n",
    "\n",
    "# View the structure of the clean dataset\n",
    "print(ds)\n",
    "\n"
   ]
  }
 ],
 "metadata": {
  "kernelspec": {
   "display_name": "venv",
   "language": "python",
   "name": "python3"
  },
  "language_info": {
   "codemirror_mode": {
    "name": "ipython",
    "version": 3
   },
   "file_extension": ".py",
   "mimetype": "text/x-python",
   "name": "python",
   "nbconvert_exporter": "python",
   "pygments_lexer": "ipython3",
   "version": "3.13.3"
  }
 },
 "nbformat": 4,
 "nbformat_minor": 5
}
